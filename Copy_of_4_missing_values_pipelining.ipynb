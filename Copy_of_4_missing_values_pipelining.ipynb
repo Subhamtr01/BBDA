{
  "cells": [
    {
      "cell_type": "markdown",
      "metadata": {
        "id": "view-in-github",
        "colab_type": "text"
      },
      "source": [
        "<a href=\"https://colab.research.google.com/github/Subhamtr01/BBDA/blob/main/Copy_of_4_missing_values_pipelining.ipynb\" target=\"_parent\"><img src=\"https://colab.research.google.com/assets/colab-badge.svg\" alt=\"Open In Colab\"/></a>"
      ]
    },
    {
      "cell_type": "code",
      "source": [
        "#Last amended: 1st June, 2023\n",
        "# Ref: https://www.kaggle.com/code/alexisbcook/missing-values\n",
        "# Data Source: https://www.kaggle.com/competitions/tabular-playground-series-aug-2022/data\n"
      ],
      "metadata": {
        "id": "KORsmLnrDjKG"
      },
      "id": "KORsmLnrDjKG",
      "execution_count": 113,
      "outputs": []
    },
    {
      "cell_type": "markdown",
      "id": "73575ae6",
      "metadata": {
        "papermill": {
          "duration": 0.004925,
          "end_time": "2023-04-21T13:40:52.185098",
          "exception": false,
          "start_time": "2023-04-21T13:40:52.180173",
          "status": "completed"
        },
        "tags": [],
        "id": "73575ae6"
      },
      "source": [
        "This [data represents](https://www.kaggle.com/competitions/tabular-playground-series-aug-2022/data) the results of a large product testing study. For each product_code you are given a number of product attributes (fixed for the code) as well as a number of measurement values for each individual product, representing various lab testing methods. Each product is used in a simulated real-world environment experiment, and and absorbs a certain amount of fluid (loading) to see whether or not it fails.\n",
        "\n",
        "Your task is to use the data to predict individual product failures of new codes with their individual lab test results."
      ]
    },
    {
      "cell_type": "markdown",
      "id": "76d98a93",
      "metadata": {
        "papermill": {
          "duration": 0.003361,
          "end_time": "2023-04-21T13:40:52.192292",
          "exception": false,
          "start_time": "2023-04-21T13:40:52.188931",
          "status": "completed"
        },
        "tags": [],
        "id": "76d98a93"
      },
      "source": [
        "# Simple Data pipelining"
      ]
    },
    {
      "cell_type": "code",
      "source": [
        "# 1.0\n",
        "\n",
        "import pandas as pd\n",
        "\n",
        "# 1.0.1\n",
        "from sklearn.model_selection import train_test_split\n",
        "from sklearn.ensemble import  RandomForestClassifier\n",
        "from sklearn.metrics import accuracy_score\n",
        "from sklearn.impute import SimpleImputer\n",
        "from sklearn.pipeline import make_pipeline\n",
        "\n",
        "# 1.0.2\n",
        "from pathlib import Path\n"
      ],
      "metadata": {
        "id": "4cpM_BQTCEaW"
      },
      "id": "4cpM_BQTCEaW",
      "execution_count": 114,
      "outputs": []
    },
    {
      "cell_type": "code",
      "source": [
        "# 1.1\n",
        "from google.colab import drive\n",
        "drive.mount('/gdrive')"
      ],
      "metadata": {
        "colab": {
          "base_uri": "https://localhost:8080/"
        },
        "id": "8aafxrwACLmk",
        "outputId": "56d4947a-7016-46ac-b317-e635daec7e1b"
      },
      "id": "8aafxrwACLmk",
      "execution_count": 115,
      "outputs": [
        {
          "output_type": "stream",
          "name": "stdout",
          "text": [
            "Mounted at /gdrive\n"
          ]
        }
      ]
    },
    {
      "cell_type": "code",
      "source": [
        "# 1.2 Display from a cell outputs of multiple commands:\n",
        "\n",
        "from IPython.core.interactiveshell import InteractiveShell\n",
        "InteractiveShell.ast_node_interactivity = \"all\""
      ],
      "metadata": {
        "id": "fOn-d7TBxhg_"
      },
      "id": "fOn-d7TBxhg_",
      "execution_count": 116,
      "outputs": []
    },
    {
      "cell_type": "code",
      "source": [
        "from google.colab import drive\n",
        "drive.mount('/content/drive')"
      ],
      "metadata": {
        "colab": {
          "base_uri": "https://localhost:8080/"
        },
        "id": "JP5IfzTYg-5G",
        "outputId": "6c89420b-3895-49ff-b779-4a6f5250663c"
      },
      "id": "JP5IfzTYg-5G",
      "execution_count": 117,
      "outputs": [
        {
          "output_type": "stream",
          "name": "stdout",
          "text": [
            "Mounted at /content/drive\n"
          ]
        }
      ]
    },
    {
      "cell_type": "code",
      "source": [
        "# 1.2.1 Where is our data:\n",
        "\n",
        "pathToFolder = \"/content/drive/MyDrive/BDDA1\"\n"
      ],
      "metadata": {
        "id": "xN2YaWgdCaqy"
      },
      "id": "xN2YaWgdCaqy",
      "execution_count": 118,
      "outputs": []
    },
    {
      "cell_type": "code",
      "source": [
        "# 1.2.2 And our file?\n",
        "\n",
        "path = Path(pathToFolder) / \"producttesting.zip\""
      ],
      "metadata": {
        "id": "C8yenP62Cktl"
      },
      "id": "C8yenP62Cktl",
      "execution_count": 119,
      "outputs": []
    },
    {
      "cell_type": "code",
      "source": [
        "# 2.1 Load the data\n",
        "data = pd.read_csv(path)"
      ],
      "metadata": {
        "id": "OHXu7s6-Crsn"
      },
      "id": "OHXu7s6-Crsn",
      "execution_count": 143,
      "outputs": []
    },
    {
      "cell_type": "code",
      "source": [
        "# 2.2\n",
        "data.shape  #(26570, 26)\n",
        "data.head()\n"
      ],
      "metadata": {
        "colab": {
          "base_uri": "https://localhost:8080/",
          "height": 318
        },
        "id": "7oFzt33Ox0aN",
        "outputId": "ceedd9a6-132e-4c00-a8db-dbb7b6bf4fdf"
      },
      "id": "7oFzt33Ox0aN",
      "execution_count": 144,
      "outputs": [
        {
          "output_type": "execute_result",
          "data": {
            "text/plain": [
              "(26570, 26)"
            ]
          },
          "metadata": {},
          "execution_count": 144
        },
        {
          "output_type": "execute_result",
          "data": {
            "text/plain": [
              "   id product_code  loading attribute_0 attribute_1  attribute_2  attribute_3  \\\n",
              "0   0            A    80.10  material_7  material_8            9            5   \n",
              "1   1            A    84.89  material_7  material_8            9            5   \n",
              "2   2            A    82.43  material_7  material_8            9            5   \n",
              "3   3            A   101.07  material_7  material_8            9            5   \n",
              "4   4            A   188.06  material_7  material_8            9            5   \n",
              "\n",
              "   measurement_0  measurement_1  measurement_2  ...  measurement_9  \\\n",
              "0              7              8              4  ...         10.672   \n",
              "1             14              3              3  ...         12.448   \n",
              "2             12              1              5  ...         12.715   \n",
              "3             13              2              6  ...         12.471   \n",
              "4              9              2              8  ...         10.337   \n",
              "\n",
              "   measurement_10  measurement_11  measurement_12  measurement_13  \\\n",
              "0          15.859          17.594          15.193          15.029   \n",
              "1          17.947          17.915          11.755          14.732   \n",
              "2          15.607             NaN          13.798          16.711   \n",
              "3          16.346          18.377          10.020          15.250   \n",
              "4          17.082          19.932          12.428          16.182   \n",
              "\n",
              "   measurement_14  measurement_15  measurement_16  measurement_17  failure  \n",
              "0             NaN          13.034          14.684         764.100        0  \n",
              "1          15.425          14.395          15.631         682.057        0  \n",
              "2          18.631          14.094          17.946         663.376        0  \n",
              "3          15.562          16.154          17.172         826.282        0  \n",
              "4          12.760          13.153          16.412         579.885        0  \n",
              "\n",
              "[5 rows x 26 columns]"
            ],
            "text/html": [
              "\n",
              "\n",
              "  <div id=\"df-6b7eff6c-3d56-40dd-a003-f0fef0312f4c\">\n",
              "    <div class=\"colab-df-container\">\n",
              "      <div>\n",
              "<style scoped>\n",
              "    .dataframe tbody tr th:only-of-type {\n",
              "        vertical-align: middle;\n",
              "    }\n",
              "\n",
              "    .dataframe tbody tr th {\n",
              "        vertical-align: top;\n",
              "    }\n",
              "\n",
              "    .dataframe thead th {\n",
              "        text-align: right;\n",
              "    }\n",
              "</style>\n",
              "<table border=\"1\" class=\"dataframe\">\n",
              "  <thead>\n",
              "    <tr style=\"text-align: right;\">\n",
              "      <th></th>\n",
              "      <th>id</th>\n",
              "      <th>product_code</th>\n",
              "      <th>loading</th>\n",
              "      <th>attribute_0</th>\n",
              "      <th>attribute_1</th>\n",
              "      <th>attribute_2</th>\n",
              "      <th>attribute_3</th>\n",
              "      <th>measurement_0</th>\n",
              "      <th>measurement_1</th>\n",
              "      <th>measurement_2</th>\n",
              "      <th>...</th>\n",
              "      <th>measurement_9</th>\n",
              "      <th>measurement_10</th>\n",
              "      <th>measurement_11</th>\n",
              "      <th>measurement_12</th>\n",
              "      <th>measurement_13</th>\n",
              "      <th>measurement_14</th>\n",
              "      <th>measurement_15</th>\n",
              "      <th>measurement_16</th>\n",
              "      <th>measurement_17</th>\n",
              "      <th>failure</th>\n",
              "    </tr>\n",
              "  </thead>\n",
              "  <tbody>\n",
              "    <tr>\n",
              "      <th>0</th>\n",
              "      <td>0</td>\n",
              "      <td>A</td>\n",
              "      <td>80.10</td>\n",
              "      <td>material_7</td>\n",
              "      <td>material_8</td>\n",
              "      <td>9</td>\n",
              "      <td>5</td>\n",
              "      <td>7</td>\n",
              "      <td>8</td>\n",
              "      <td>4</td>\n",
              "      <td>...</td>\n",
              "      <td>10.672</td>\n",
              "      <td>15.859</td>\n",
              "      <td>17.594</td>\n",
              "      <td>15.193</td>\n",
              "      <td>15.029</td>\n",
              "      <td>NaN</td>\n",
              "      <td>13.034</td>\n",
              "      <td>14.684</td>\n",
              "      <td>764.100</td>\n",
              "      <td>0</td>\n",
              "    </tr>\n",
              "    <tr>\n",
              "      <th>1</th>\n",
              "      <td>1</td>\n",
              "      <td>A</td>\n",
              "      <td>84.89</td>\n",
              "      <td>material_7</td>\n",
              "      <td>material_8</td>\n",
              "      <td>9</td>\n",
              "      <td>5</td>\n",
              "      <td>14</td>\n",
              "      <td>3</td>\n",
              "      <td>3</td>\n",
              "      <td>...</td>\n",
              "      <td>12.448</td>\n",
              "      <td>17.947</td>\n",
              "      <td>17.915</td>\n",
              "      <td>11.755</td>\n",
              "      <td>14.732</td>\n",
              "      <td>15.425</td>\n",
              "      <td>14.395</td>\n",
              "      <td>15.631</td>\n",
              "      <td>682.057</td>\n",
              "      <td>0</td>\n",
              "    </tr>\n",
              "    <tr>\n",
              "      <th>2</th>\n",
              "      <td>2</td>\n",
              "      <td>A</td>\n",
              "      <td>82.43</td>\n",
              "      <td>material_7</td>\n",
              "      <td>material_8</td>\n",
              "      <td>9</td>\n",
              "      <td>5</td>\n",
              "      <td>12</td>\n",
              "      <td>1</td>\n",
              "      <td>5</td>\n",
              "      <td>...</td>\n",
              "      <td>12.715</td>\n",
              "      <td>15.607</td>\n",
              "      <td>NaN</td>\n",
              "      <td>13.798</td>\n",
              "      <td>16.711</td>\n",
              "      <td>18.631</td>\n",
              "      <td>14.094</td>\n",
              "      <td>17.946</td>\n",
              "      <td>663.376</td>\n",
              "      <td>0</td>\n",
              "    </tr>\n",
              "    <tr>\n",
              "      <th>3</th>\n",
              "      <td>3</td>\n",
              "      <td>A</td>\n",
              "      <td>101.07</td>\n",
              "      <td>material_7</td>\n",
              "      <td>material_8</td>\n",
              "      <td>9</td>\n",
              "      <td>5</td>\n",
              "      <td>13</td>\n",
              "      <td>2</td>\n",
              "      <td>6</td>\n",
              "      <td>...</td>\n",
              "      <td>12.471</td>\n",
              "      <td>16.346</td>\n",
              "      <td>18.377</td>\n",
              "      <td>10.020</td>\n",
              "      <td>15.250</td>\n",
              "      <td>15.562</td>\n",
              "      <td>16.154</td>\n",
              "      <td>17.172</td>\n",
              "      <td>826.282</td>\n",
              "      <td>0</td>\n",
              "    </tr>\n",
              "    <tr>\n",
              "      <th>4</th>\n",
              "      <td>4</td>\n",
              "      <td>A</td>\n",
              "      <td>188.06</td>\n",
              "      <td>material_7</td>\n",
              "      <td>material_8</td>\n",
              "      <td>9</td>\n",
              "      <td>5</td>\n",
              "      <td>9</td>\n",
              "      <td>2</td>\n",
              "      <td>8</td>\n",
              "      <td>...</td>\n",
              "      <td>10.337</td>\n",
              "      <td>17.082</td>\n",
              "      <td>19.932</td>\n",
              "      <td>12.428</td>\n",
              "      <td>16.182</td>\n",
              "      <td>12.760</td>\n",
              "      <td>13.153</td>\n",
              "      <td>16.412</td>\n",
              "      <td>579.885</td>\n",
              "      <td>0</td>\n",
              "    </tr>\n",
              "  </tbody>\n",
              "</table>\n",
              "<p>5 rows × 26 columns</p>\n",
              "</div>\n",
              "      <button class=\"colab-df-convert\" onclick=\"convertToInteractive('df-6b7eff6c-3d56-40dd-a003-f0fef0312f4c')\"\n",
              "              title=\"Convert this dataframe to an interactive table.\"\n",
              "              style=\"display:none;\">\n",
              "\n",
              "  <svg xmlns=\"http://www.w3.org/2000/svg\" height=\"24px\"viewBox=\"0 0 24 24\"\n",
              "       width=\"24px\">\n",
              "    <path d=\"M0 0h24v24H0V0z\" fill=\"none\"/>\n",
              "    <path d=\"M18.56 5.44l.94 2.06.94-2.06 2.06-.94-2.06-.94-.94-2.06-.94 2.06-2.06.94zm-11 1L8.5 8.5l.94-2.06 2.06-.94-2.06-.94L8.5 2.5l-.94 2.06-2.06.94zm10 10l.94 2.06.94-2.06 2.06-.94-2.06-.94-.94-2.06-.94 2.06-2.06.94z\"/><path d=\"M17.41 7.96l-1.37-1.37c-.4-.4-.92-.59-1.43-.59-.52 0-1.04.2-1.43.59L10.3 9.45l-7.72 7.72c-.78.78-.78 2.05 0 2.83L4 21.41c.39.39.9.59 1.41.59.51 0 1.02-.2 1.41-.59l7.78-7.78 2.81-2.81c.8-.78.8-2.07 0-2.86zM5.41 20L4 18.59l7.72-7.72 1.47 1.35L5.41 20z\"/>\n",
              "  </svg>\n",
              "      </button>\n",
              "\n",
              "\n",
              "\n",
              "    <div id=\"df-66e02218-4337-4265-8446-8d7dfafb1323\">\n",
              "      <button class=\"colab-df-quickchart\" onclick=\"quickchart('df-66e02218-4337-4265-8446-8d7dfafb1323')\"\n",
              "              title=\"Suggest charts.\"\n",
              "              style=\"display:none;\">\n",
              "\n",
              "<svg xmlns=\"http://www.w3.org/2000/svg\" height=\"24px\"viewBox=\"0 0 24 24\"\n",
              "     width=\"24px\">\n",
              "    <g>\n",
              "        <path d=\"M19 3H5c-1.1 0-2 .9-2 2v14c0 1.1.9 2 2 2h14c1.1 0 2-.9 2-2V5c0-1.1-.9-2-2-2zM9 17H7v-7h2v7zm4 0h-2V7h2v10zm4 0h-2v-4h2v4z\"/>\n",
              "    </g>\n",
              "</svg>\n",
              "      </button>\n",
              "    </div>\n",
              "\n",
              "<style>\n",
              "  .colab-df-quickchart {\n",
              "    background-color: #E8F0FE;\n",
              "    border: none;\n",
              "    border-radius: 50%;\n",
              "    cursor: pointer;\n",
              "    display: none;\n",
              "    fill: #1967D2;\n",
              "    height: 32px;\n",
              "    padding: 0 0 0 0;\n",
              "    width: 32px;\n",
              "  }\n",
              "\n",
              "  .colab-df-quickchart:hover {\n",
              "    background-color: #E2EBFA;\n",
              "    box-shadow: 0px 1px 2px rgba(60, 64, 67, 0.3), 0px 1px 3px 1px rgba(60, 64, 67, 0.15);\n",
              "    fill: #174EA6;\n",
              "  }\n",
              "\n",
              "  [theme=dark] .colab-df-quickchart {\n",
              "    background-color: #3B4455;\n",
              "    fill: #D2E3FC;\n",
              "  }\n",
              "\n",
              "  [theme=dark] .colab-df-quickchart:hover {\n",
              "    background-color: #434B5C;\n",
              "    box-shadow: 0px 1px 3px 1px rgba(0, 0, 0, 0.15);\n",
              "    filter: drop-shadow(0px 1px 2px rgba(0, 0, 0, 0.3));\n",
              "    fill: #FFFFFF;\n",
              "  }\n",
              "</style>\n",
              "\n",
              "    <script>\n",
              "      async function quickchart(key) {\n",
              "        const containerElement = document.querySelector('#' + key);\n",
              "        const charts = await google.colab.kernel.invokeFunction(\n",
              "            'suggestCharts', [key], {});\n",
              "      }\n",
              "    </script>\n",
              "\n",
              "      <script>\n",
              "\n",
              "function displayQuickchartButton(domScope) {\n",
              "  let quickchartButtonEl =\n",
              "    domScope.querySelector('#df-66e02218-4337-4265-8446-8d7dfafb1323 button.colab-df-quickchart');\n",
              "  quickchartButtonEl.style.display =\n",
              "    google.colab.kernel.accessAllowed ? 'block' : 'none';\n",
              "}\n",
              "\n",
              "        displayQuickchartButton(document);\n",
              "      </script>\n",
              "      <style>\n",
              "    .colab-df-container {\n",
              "      display:flex;\n",
              "      flex-wrap:wrap;\n",
              "      gap: 12px;\n",
              "    }\n",
              "\n",
              "    .colab-df-convert {\n",
              "      background-color: #E8F0FE;\n",
              "      border: none;\n",
              "      border-radius: 50%;\n",
              "      cursor: pointer;\n",
              "      display: none;\n",
              "      fill: #1967D2;\n",
              "      height: 32px;\n",
              "      padding: 0 0 0 0;\n",
              "      width: 32px;\n",
              "    }\n",
              "\n",
              "    .colab-df-convert:hover {\n",
              "      background-color: #E2EBFA;\n",
              "      box-shadow: 0px 1px 2px rgba(60, 64, 67, 0.3), 0px 1px 3px 1px rgba(60, 64, 67, 0.15);\n",
              "      fill: #174EA6;\n",
              "    }\n",
              "\n",
              "    [theme=dark] .colab-df-convert {\n",
              "      background-color: #3B4455;\n",
              "      fill: #D2E3FC;\n",
              "    }\n",
              "\n",
              "    [theme=dark] .colab-df-convert:hover {\n",
              "      background-color: #434B5C;\n",
              "      box-shadow: 0px 1px 3px 1px rgba(0, 0, 0, 0.15);\n",
              "      filter: drop-shadow(0px 1px 2px rgba(0, 0, 0, 0.3));\n",
              "      fill: #FFFFFF;\n",
              "    }\n",
              "  </style>\n",
              "\n",
              "      <script>\n",
              "        const buttonEl =\n",
              "          document.querySelector('#df-6b7eff6c-3d56-40dd-a003-f0fef0312f4c button.colab-df-convert');\n",
              "        buttonEl.style.display =\n",
              "          google.colab.kernel.accessAllowed ? 'block' : 'none';\n",
              "\n",
              "        async function convertToInteractive(key) {\n",
              "          const element = document.querySelector('#df-6b7eff6c-3d56-40dd-a003-f0fef0312f4c');\n",
              "          const dataTable =\n",
              "            await google.colab.kernel.invokeFunction('convertToInteractive',\n",
              "                                                     [key], {});\n",
              "          if (!dataTable) return;\n",
              "\n",
              "          const docLinkHtml = 'Like what you see? Visit the ' +\n",
              "            '<a target=\"_blank\" href=https://colab.research.google.com/notebooks/data_table.ipynb>data table notebook</a>'\n",
              "            + ' to learn more about interactive tables.';\n",
              "          element.innerHTML = '';\n",
              "          dataTable['output_type'] = 'display_data';\n",
              "          await google.colab.output.renderOutput(dataTable, element);\n",
              "          const docLink = document.createElement('div');\n",
              "          docLink.innerHTML = docLinkHtml;\n",
              "          element.appendChild(docLink);\n",
              "        }\n",
              "      </script>\n",
              "    </div>\n",
              "  </div>\n"
            ]
          },
          "metadata": {},
          "execution_count": 144
        }
      ]
    },
    {
      "cell_type": "code",
      "source": [
        "# 2.2.1 Get target\n",
        "y = data.pop('failure')\n"
      ],
      "metadata": {
        "id": "HqgEq4TQCwVI"
      },
      "id": "HqgEq4TQCwVI",
      "execution_count": 145,
      "outputs": []
    },
    {
      "cell_type": "code",
      "source": [
        "X = data.select_dtypes(exclude = ['object'])\n",
        "X.pop(\"id\")"
      ],
      "metadata": {
        "colab": {
          "base_uri": "https://localhost:8080/"
        },
        "id": "sIV5CjMgHP9O",
        "outputId": "9a8bcfad-76f2-4c1c-cec8-2f88ee12bf6d"
      },
      "id": "sIV5CjMgHP9O",
      "execution_count": 146,
      "outputs": [
        {
          "output_type": "execute_result",
          "data": {
            "text/plain": [
              "0            0\n",
              "1            1\n",
              "2            2\n",
              "3            3\n",
              "4            4\n",
              "         ...  \n",
              "26565    26565\n",
              "26566    26566\n",
              "26567    26567\n",
              "26568    26568\n",
              "26569    26569\n",
              "Name: id, Length: 26570, dtype: int64"
            ]
          },
          "metadata": {},
          "execution_count": 146
        }
      ]
    },
    {
      "cell_type": "code",
      "source": [],
      "metadata": {
        "id": "uVP9C7QSrxMW"
      },
      "id": "uVP9C7QSrxMW",
      "execution_count": 146,
      "outputs": []
    },
    {
      "cell_type": "code",
      "source": [
        "X = data.select_dtypes(exclude = ['object'])\n",
        "X"
      ],
      "metadata": {
        "colab": {
          "base_uri": "https://localhost:8080/",
          "height": 487
        },
        "id": "eWi7OGtmnwpR",
        "outputId": "f9912f0a-dc14-4e42-d382-cbaac3c5aa86"
      },
      "id": "eWi7OGtmnwpR",
      "execution_count": 147,
      "outputs": [
        {
          "output_type": "execute_result",
          "data": {
            "text/plain": [
              "          id  loading  attribute_2  attribute_3  measurement_0  measurement_1  \\\n",
              "0          0    80.10            9            5              7              8   \n",
              "1          1    84.89            9            5             14              3   \n",
              "2          2    82.43            9            5             12              1   \n",
              "3          3   101.07            9            5             13              2   \n",
              "4          4   188.06            9            5              9              2   \n",
              "...      ...      ...          ...          ...            ...            ...   \n",
              "26565  26565   158.95            6            9              6             16   \n",
              "26566  26566   146.02            6            9             10             12   \n",
              "26567  26567   115.62            6            9              1             10   \n",
              "26568  26568   106.38            6            9              2              9   \n",
              "26569  26569   131.20            6            9              6             19   \n",
              "\n",
              "       measurement_2  measurement_3  measurement_4  measurement_5  ...  \\\n",
              "0                  4         18.040         12.518         15.748  ...   \n",
              "1                  3         18.213         11.540         17.717  ...   \n",
              "2                  5         18.057         11.652         16.738  ...   \n",
              "3                  6         17.295         11.188         18.576  ...   \n",
              "4                  8         19.346         12.950         16.990  ...   \n",
              "...              ...            ...            ...            ...  ...   \n",
              "26565              4         16.301         13.259         18.068  ...   \n",
              "26566              8         17.543            NaN         17.984  ...   \n",
              "26567              1         15.670         11.535         16.778  ...   \n",
              "26568              4         18.059            NaN         16.918  ...   \n",
              "26569              1         18.034         11.431         16.918  ...   \n",
              "\n",
              "       measurement_8  measurement_9  measurement_10  measurement_11  \\\n",
              "0             20.155         10.672          15.859          17.594   \n",
              "1             17.889         12.448          17.947          17.915   \n",
              "2             18.288         12.715          15.607             NaN   \n",
              "3             19.060         12.471          16.346          18.377   \n",
              "4             18.093         10.337          17.082          19.932   \n",
              "...              ...            ...             ...             ...   \n",
              "26565         19.354            NaN          12.177          17.942   \n",
              "26566         19.563         11.242          14.179          20.564   \n",
              "26567         19.279         11.407          16.437          17.476   \n",
              "26568         19.358         11.392          17.064          17.814   \n",
              "26569         18.731         10.611          15.603          19.703   \n",
              "\n",
              "       measurement_12  measurement_13  measurement_14  measurement_15  \\\n",
              "0              15.193          15.029             NaN          13.034   \n",
              "1              11.755          14.732          15.425          14.395   \n",
              "2              13.798          16.711          18.631          14.094   \n",
              "3              10.020          15.250          15.562          16.154   \n",
              "4              12.428          16.182          12.760          13.153   \n",
              "...               ...             ...             ...             ...   \n",
              "26565          10.112          15.795          18.572          16.144   \n",
              "26566          10.234          14.450          14.322          13.146   \n",
              "26567           8.668          15.069          16.599          15.590   \n",
              "26568          14.928          16.273          15.485          13.624   \n",
              "26569          11.006          15.875          13.366          16.527   \n",
              "\n",
              "       measurement_16  measurement_17  \n",
              "0              14.684         764.100  \n",
              "1              15.631         682.057  \n",
              "2              17.946         663.376  \n",
              "3              17.172         826.282  \n",
              "4              16.412         579.885  \n",
              "...               ...             ...  \n",
              "26565             NaN         729.131  \n",
              "26566          16.471         853.924  \n",
              "26567          14.065         750.364  \n",
              "26568          12.865         730.156  \n",
              "26569          17.890         602.354  \n",
              "\n",
              "[26570 rows x 22 columns]"
            ],
            "text/html": [
              "\n",
              "\n",
              "  <div id=\"df-26a085c4-99d9-4824-9e47-fdff188000d1\">\n",
              "    <div class=\"colab-df-container\">\n",
              "      <div>\n",
              "<style scoped>\n",
              "    .dataframe tbody tr th:only-of-type {\n",
              "        vertical-align: middle;\n",
              "    }\n",
              "\n",
              "    .dataframe tbody tr th {\n",
              "        vertical-align: top;\n",
              "    }\n",
              "\n",
              "    .dataframe thead th {\n",
              "        text-align: right;\n",
              "    }\n",
              "</style>\n",
              "<table border=\"1\" class=\"dataframe\">\n",
              "  <thead>\n",
              "    <tr style=\"text-align: right;\">\n",
              "      <th></th>\n",
              "      <th>id</th>\n",
              "      <th>loading</th>\n",
              "      <th>attribute_2</th>\n",
              "      <th>attribute_3</th>\n",
              "      <th>measurement_0</th>\n",
              "      <th>measurement_1</th>\n",
              "      <th>measurement_2</th>\n",
              "      <th>measurement_3</th>\n",
              "      <th>measurement_4</th>\n",
              "      <th>measurement_5</th>\n",
              "      <th>...</th>\n",
              "      <th>measurement_8</th>\n",
              "      <th>measurement_9</th>\n",
              "      <th>measurement_10</th>\n",
              "      <th>measurement_11</th>\n",
              "      <th>measurement_12</th>\n",
              "      <th>measurement_13</th>\n",
              "      <th>measurement_14</th>\n",
              "      <th>measurement_15</th>\n",
              "      <th>measurement_16</th>\n",
              "      <th>measurement_17</th>\n",
              "    </tr>\n",
              "  </thead>\n",
              "  <tbody>\n",
              "    <tr>\n",
              "      <th>0</th>\n",
              "      <td>0</td>\n",
              "      <td>80.10</td>\n",
              "      <td>9</td>\n",
              "      <td>5</td>\n",
              "      <td>7</td>\n",
              "      <td>8</td>\n",
              "      <td>4</td>\n",
              "      <td>18.040</td>\n",
              "      <td>12.518</td>\n",
              "      <td>15.748</td>\n",
              "      <td>...</td>\n",
              "      <td>20.155</td>\n",
              "      <td>10.672</td>\n",
              "      <td>15.859</td>\n",
              "      <td>17.594</td>\n",
              "      <td>15.193</td>\n",
              "      <td>15.029</td>\n",
              "      <td>NaN</td>\n",
              "      <td>13.034</td>\n",
              "      <td>14.684</td>\n",
              "      <td>764.100</td>\n",
              "    </tr>\n",
              "    <tr>\n",
              "      <th>1</th>\n",
              "      <td>1</td>\n",
              "      <td>84.89</td>\n",
              "      <td>9</td>\n",
              "      <td>5</td>\n",
              "      <td>14</td>\n",
              "      <td>3</td>\n",
              "      <td>3</td>\n",
              "      <td>18.213</td>\n",
              "      <td>11.540</td>\n",
              "      <td>17.717</td>\n",
              "      <td>...</td>\n",
              "      <td>17.889</td>\n",
              "      <td>12.448</td>\n",
              "      <td>17.947</td>\n",
              "      <td>17.915</td>\n",
              "      <td>11.755</td>\n",
              "      <td>14.732</td>\n",
              "      <td>15.425</td>\n",
              "      <td>14.395</td>\n",
              "      <td>15.631</td>\n",
              "      <td>682.057</td>\n",
              "    </tr>\n",
              "    <tr>\n",
              "      <th>2</th>\n",
              "      <td>2</td>\n",
              "      <td>82.43</td>\n",
              "      <td>9</td>\n",
              "      <td>5</td>\n",
              "      <td>12</td>\n",
              "      <td>1</td>\n",
              "      <td>5</td>\n",
              "      <td>18.057</td>\n",
              "      <td>11.652</td>\n",
              "      <td>16.738</td>\n",
              "      <td>...</td>\n",
              "      <td>18.288</td>\n",
              "      <td>12.715</td>\n",
              "      <td>15.607</td>\n",
              "      <td>NaN</td>\n",
              "      <td>13.798</td>\n",
              "      <td>16.711</td>\n",
              "      <td>18.631</td>\n",
              "      <td>14.094</td>\n",
              "      <td>17.946</td>\n",
              "      <td>663.376</td>\n",
              "    </tr>\n",
              "    <tr>\n",
              "      <th>3</th>\n",
              "      <td>3</td>\n",
              "      <td>101.07</td>\n",
              "      <td>9</td>\n",
              "      <td>5</td>\n",
              "      <td>13</td>\n",
              "      <td>2</td>\n",
              "      <td>6</td>\n",
              "      <td>17.295</td>\n",
              "      <td>11.188</td>\n",
              "      <td>18.576</td>\n",
              "      <td>...</td>\n",
              "      <td>19.060</td>\n",
              "      <td>12.471</td>\n",
              "      <td>16.346</td>\n",
              "      <td>18.377</td>\n",
              "      <td>10.020</td>\n",
              "      <td>15.250</td>\n",
              "      <td>15.562</td>\n",
              "      <td>16.154</td>\n",
              "      <td>17.172</td>\n",
              "      <td>826.282</td>\n",
              "    </tr>\n",
              "    <tr>\n",
              "      <th>4</th>\n",
              "      <td>4</td>\n",
              "      <td>188.06</td>\n",
              "      <td>9</td>\n",
              "      <td>5</td>\n",
              "      <td>9</td>\n",
              "      <td>2</td>\n",
              "      <td>8</td>\n",
              "      <td>19.346</td>\n",
              "      <td>12.950</td>\n",
              "      <td>16.990</td>\n",
              "      <td>...</td>\n",
              "      <td>18.093</td>\n",
              "      <td>10.337</td>\n",
              "      <td>17.082</td>\n",
              "      <td>19.932</td>\n",
              "      <td>12.428</td>\n",
              "      <td>16.182</td>\n",
              "      <td>12.760</td>\n",
              "      <td>13.153</td>\n",
              "      <td>16.412</td>\n",
              "      <td>579.885</td>\n",
              "    </tr>\n",
              "    <tr>\n",
              "      <th>...</th>\n",
              "      <td>...</td>\n",
              "      <td>...</td>\n",
              "      <td>...</td>\n",
              "      <td>...</td>\n",
              "      <td>...</td>\n",
              "      <td>...</td>\n",
              "      <td>...</td>\n",
              "      <td>...</td>\n",
              "      <td>...</td>\n",
              "      <td>...</td>\n",
              "      <td>...</td>\n",
              "      <td>...</td>\n",
              "      <td>...</td>\n",
              "      <td>...</td>\n",
              "      <td>...</td>\n",
              "      <td>...</td>\n",
              "      <td>...</td>\n",
              "      <td>...</td>\n",
              "      <td>...</td>\n",
              "      <td>...</td>\n",
              "      <td>...</td>\n",
              "    </tr>\n",
              "    <tr>\n",
              "      <th>26565</th>\n",
              "      <td>26565</td>\n",
              "      <td>158.95</td>\n",
              "      <td>6</td>\n",
              "      <td>9</td>\n",
              "      <td>6</td>\n",
              "      <td>16</td>\n",
              "      <td>4</td>\n",
              "      <td>16.301</td>\n",
              "      <td>13.259</td>\n",
              "      <td>18.068</td>\n",
              "      <td>...</td>\n",
              "      <td>19.354</td>\n",
              "      <td>NaN</td>\n",
              "      <td>12.177</td>\n",
              "      <td>17.942</td>\n",
              "      <td>10.112</td>\n",
              "      <td>15.795</td>\n",
              "      <td>18.572</td>\n",
              "      <td>16.144</td>\n",
              "      <td>NaN</td>\n",
              "      <td>729.131</td>\n",
              "    </tr>\n",
              "    <tr>\n",
              "      <th>26566</th>\n",
              "      <td>26566</td>\n",
              "      <td>146.02</td>\n",
              "      <td>6</td>\n",
              "      <td>9</td>\n",
              "      <td>10</td>\n",
              "      <td>12</td>\n",
              "      <td>8</td>\n",
              "      <td>17.543</td>\n",
              "      <td>NaN</td>\n",
              "      <td>17.984</td>\n",
              "      <td>...</td>\n",
              "      <td>19.563</td>\n",
              "      <td>11.242</td>\n",
              "      <td>14.179</td>\n",
              "      <td>20.564</td>\n",
              "      <td>10.234</td>\n",
              "      <td>14.450</td>\n",
              "      <td>14.322</td>\n",
              "      <td>13.146</td>\n",
              "      <td>16.471</td>\n",
              "      <td>853.924</td>\n",
              "    </tr>\n",
              "    <tr>\n",
              "      <th>26567</th>\n",
              "      <td>26567</td>\n",
              "      <td>115.62</td>\n",
              "      <td>6</td>\n",
              "      <td>9</td>\n",
              "      <td>1</td>\n",
              "      <td>10</td>\n",
              "      <td>1</td>\n",
              "      <td>15.670</td>\n",
              "      <td>11.535</td>\n",
              "      <td>16.778</td>\n",
              "      <td>...</td>\n",
              "      <td>19.279</td>\n",
              "      <td>11.407</td>\n",
              "      <td>16.437</td>\n",
              "      <td>17.476</td>\n",
              "      <td>8.668</td>\n",
              "      <td>15.069</td>\n",
              "      <td>16.599</td>\n",
              "      <td>15.590</td>\n",
              "      <td>14.065</td>\n",
              "      <td>750.364</td>\n",
              "    </tr>\n",
              "    <tr>\n",
              "      <th>26568</th>\n",
              "      <td>26568</td>\n",
              "      <td>106.38</td>\n",
              "      <td>6</td>\n",
              "      <td>9</td>\n",
              "      <td>2</td>\n",
              "      <td>9</td>\n",
              "      <td>4</td>\n",
              "      <td>18.059</td>\n",
              "      <td>NaN</td>\n",
              "      <td>16.918</td>\n",
              "      <td>...</td>\n",
              "      <td>19.358</td>\n",
              "      <td>11.392</td>\n",
              "      <td>17.064</td>\n",
              "      <td>17.814</td>\n",
              "      <td>14.928</td>\n",
              "      <td>16.273</td>\n",
              "      <td>15.485</td>\n",
              "      <td>13.624</td>\n",
              "      <td>12.865</td>\n",
              "      <td>730.156</td>\n",
              "    </tr>\n",
              "    <tr>\n",
              "      <th>26569</th>\n",
              "      <td>26569</td>\n",
              "      <td>131.20</td>\n",
              "      <td>6</td>\n",
              "      <td>9</td>\n",
              "      <td>6</td>\n",
              "      <td>19</td>\n",
              "      <td>1</td>\n",
              "      <td>18.034</td>\n",
              "      <td>11.431</td>\n",
              "      <td>16.918</td>\n",
              "      <td>...</td>\n",
              "      <td>18.731</td>\n",
              "      <td>10.611</td>\n",
              "      <td>15.603</td>\n",
              "      <td>19.703</td>\n",
              "      <td>11.006</td>\n",
              "      <td>15.875</td>\n",
              "      <td>13.366</td>\n",
              "      <td>16.527</td>\n",
              "      <td>17.890</td>\n",
              "      <td>602.354</td>\n",
              "    </tr>\n",
              "  </tbody>\n",
              "</table>\n",
              "<p>26570 rows × 22 columns</p>\n",
              "</div>\n",
              "      <button class=\"colab-df-convert\" onclick=\"convertToInteractive('df-26a085c4-99d9-4824-9e47-fdff188000d1')\"\n",
              "              title=\"Convert this dataframe to an interactive table.\"\n",
              "              style=\"display:none;\">\n",
              "\n",
              "  <svg xmlns=\"http://www.w3.org/2000/svg\" height=\"24px\"viewBox=\"0 0 24 24\"\n",
              "       width=\"24px\">\n",
              "    <path d=\"M0 0h24v24H0V0z\" fill=\"none\"/>\n",
              "    <path d=\"M18.56 5.44l.94 2.06.94-2.06 2.06-.94-2.06-.94-.94-2.06-.94 2.06-2.06.94zm-11 1L8.5 8.5l.94-2.06 2.06-.94-2.06-.94L8.5 2.5l-.94 2.06-2.06.94zm10 10l.94 2.06.94-2.06 2.06-.94-2.06-.94-.94-2.06-.94 2.06-2.06.94z\"/><path d=\"M17.41 7.96l-1.37-1.37c-.4-.4-.92-.59-1.43-.59-.52 0-1.04.2-1.43.59L10.3 9.45l-7.72 7.72c-.78.78-.78 2.05 0 2.83L4 21.41c.39.39.9.59 1.41.59.51 0 1.02-.2 1.41-.59l7.78-7.78 2.81-2.81c.8-.78.8-2.07 0-2.86zM5.41 20L4 18.59l7.72-7.72 1.47 1.35L5.41 20z\"/>\n",
              "  </svg>\n",
              "      </button>\n",
              "\n",
              "\n",
              "\n",
              "    <div id=\"df-4d08aeb9-2304-47fe-93c4-d1176f0eca1e\">\n",
              "      <button class=\"colab-df-quickchart\" onclick=\"quickchart('df-4d08aeb9-2304-47fe-93c4-d1176f0eca1e')\"\n",
              "              title=\"Suggest charts.\"\n",
              "              style=\"display:none;\">\n",
              "\n",
              "<svg xmlns=\"http://www.w3.org/2000/svg\" height=\"24px\"viewBox=\"0 0 24 24\"\n",
              "     width=\"24px\">\n",
              "    <g>\n",
              "        <path d=\"M19 3H5c-1.1 0-2 .9-2 2v14c0 1.1.9 2 2 2h14c1.1 0 2-.9 2-2V5c0-1.1-.9-2-2-2zM9 17H7v-7h2v7zm4 0h-2V7h2v10zm4 0h-2v-4h2v4z\"/>\n",
              "    </g>\n",
              "</svg>\n",
              "      </button>\n",
              "    </div>\n",
              "\n",
              "<style>\n",
              "  .colab-df-quickchart {\n",
              "    background-color: #E8F0FE;\n",
              "    border: none;\n",
              "    border-radius: 50%;\n",
              "    cursor: pointer;\n",
              "    display: none;\n",
              "    fill: #1967D2;\n",
              "    height: 32px;\n",
              "    padding: 0 0 0 0;\n",
              "    width: 32px;\n",
              "  }\n",
              "\n",
              "  .colab-df-quickchart:hover {\n",
              "    background-color: #E2EBFA;\n",
              "    box-shadow: 0px 1px 2px rgba(60, 64, 67, 0.3), 0px 1px 3px 1px rgba(60, 64, 67, 0.15);\n",
              "    fill: #174EA6;\n",
              "  }\n",
              "\n",
              "  [theme=dark] .colab-df-quickchart {\n",
              "    background-color: #3B4455;\n",
              "    fill: #D2E3FC;\n",
              "  }\n",
              "\n",
              "  [theme=dark] .colab-df-quickchart:hover {\n",
              "    background-color: #434B5C;\n",
              "    box-shadow: 0px 1px 3px 1px rgba(0, 0, 0, 0.15);\n",
              "    filter: drop-shadow(0px 1px 2px rgba(0, 0, 0, 0.3));\n",
              "    fill: #FFFFFF;\n",
              "  }\n",
              "</style>\n",
              "\n",
              "    <script>\n",
              "      async function quickchart(key) {\n",
              "        const containerElement = document.querySelector('#' + key);\n",
              "        const charts = await google.colab.kernel.invokeFunction(\n",
              "            'suggestCharts', [key], {});\n",
              "      }\n",
              "    </script>\n",
              "\n",
              "      <script>\n",
              "\n",
              "function displayQuickchartButton(domScope) {\n",
              "  let quickchartButtonEl =\n",
              "    domScope.querySelector('#df-4d08aeb9-2304-47fe-93c4-d1176f0eca1e button.colab-df-quickchart');\n",
              "  quickchartButtonEl.style.display =\n",
              "    google.colab.kernel.accessAllowed ? 'block' : 'none';\n",
              "}\n",
              "\n",
              "        displayQuickchartButton(document);\n",
              "      </script>\n",
              "      <style>\n",
              "    .colab-df-container {\n",
              "      display:flex;\n",
              "      flex-wrap:wrap;\n",
              "      gap: 12px;\n",
              "    }\n",
              "\n",
              "    .colab-df-convert {\n",
              "      background-color: #E8F0FE;\n",
              "      border: none;\n",
              "      border-radius: 50%;\n",
              "      cursor: pointer;\n",
              "      display: none;\n",
              "      fill: #1967D2;\n",
              "      height: 32px;\n",
              "      padding: 0 0 0 0;\n",
              "      width: 32px;\n",
              "    }\n",
              "\n",
              "    .colab-df-convert:hover {\n",
              "      background-color: #E2EBFA;\n",
              "      box-shadow: 0px 1px 2px rgba(60, 64, 67, 0.3), 0px 1px 3px 1px rgba(60, 64, 67, 0.15);\n",
              "      fill: #174EA6;\n",
              "    }\n",
              "\n",
              "    [theme=dark] .colab-df-convert {\n",
              "      background-color: #3B4455;\n",
              "      fill: #D2E3FC;\n",
              "    }\n",
              "\n",
              "    [theme=dark] .colab-df-convert:hover {\n",
              "      background-color: #434B5C;\n",
              "      box-shadow: 0px 1px 3px 1px rgba(0, 0, 0, 0.15);\n",
              "      filter: drop-shadow(0px 1px 2px rgba(0, 0, 0, 0.3));\n",
              "      fill: #FFFFFF;\n",
              "    }\n",
              "  </style>\n",
              "\n",
              "      <script>\n",
              "        const buttonEl =\n",
              "          document.querySelector('#df-26a085c4-99d9-4824-9e47-fdff188000d1 button.colab-df-convert');\n",
              "        buttonEl.style.display =\n",
              "          google.colab.kernel.accessAllowed ? 'block' : 'none';\n",
              "\n",
              "        async function convertToInteractive(key) {\n",
              "          const element = document.querySelector('#df-26a085c4-99d9-4824-9e47-fdff188000d1');\n",
              "          const dataTable =\n",
              "            await google.colab.kernel.invokeFunction('convertToInteractive',\n",
              "                                                     [key], {});\n",
              "          if (!dataTable) return;\n",
              "\n",
              "          const docLinkHtml = 'Like what you see? Visit the ' +\n",
              "            '<a target=\"_blank\" href=https://colab.research.google.com/notebooks/data_table.ipynb>data table notebook</a>'\n",
              "            + ' to learn more about interactive tables.';\n",
              "          element.innerHTML = '';\n",
              "          dataTable['output_type'] = 'display_data';\n",
              "          await google.colab.output.renderOutput(dataTable, element);\n",
              "          const docLink = document.createElement('div');\n",
              "          docLink.innerHTML = docLinkHtml;\n",
              "          element.appendChild(docLink);\n",
              "        }\n",
              "      </script>\n",
              "    </div>\n",
              "  </div>\n"
            ]
          },
          "metadata": {},
          "execution_count": 147
        }
      ]
    },
    {
      "cell_type": "code",
      "source": [
        "si=SimpleImputer(strategy= \"median\")"
      ],
      "metadata": {
        "id": "IDGUyeysql0s"
      },
      "id": "IDGUyeysql0s",
      "execution_count": 148,
      "outputs": []
    },
    {
      "cell_type": "code",
      "source": [
        "column_name =list(X.columns)"
      ],
      "metadata": {
        "id": "gI0drWqnsAeZ"
      },
      "id": "gI0drWqnsAeZ",
      "execution_count": 149,
      "outputs": []
    },
    {
      "cell_type": "code",
      "source": [],
      "metadata": {
        "id": "FwMfRZdXthKp"
      },
      "id": "FwMfRZdXthKp",
      "execution_count": 149,
      "outputs": []
    },
    {
      "cell_type": "code",
      "source": [
        "si.fit(X)"
      ],
      "metadata": {
        "colab": {
          "base_uri": "https://localhost:8080/",
          "height": 75
        },
        "id": "N1KHOQcMq3z9",
        "outputId": "2879b0db-97c3-4ab1-efd9-327d839ac12e"
      },
      "id": "N1KHOQcMq3z9",
      "execution_count": 150,
      "outputs": [
        {
          "output_type": "execute_result",
          "data": {
            "text/plain": [
              "SimpleImputer(strategy='median')"
            ],
            "text/html": [
              "<style>#sk-container-id-11 {color: black;background-color: white;}#sk-container-id-11 pre{padding: 0;}#sk-container-id-11 div.sk-toggleable {background-color: white;}#sk-container-id-11 label.sk-toggleable__label {cursor: pointer;display: block;width: 100%;margin-bottom: 0;padding: 0.3em;box-sizing: border-box;text-align: center;}#sk-container-id-11 label.sk-toggleable__label-arrow:before {content: \"▸\";float: left;margin-right: 0.25em;color: #696969;}#sk-container-id-11 label.sk-toggleable__label-arrow:hover:before {color: black;}#sk-container-id-11 div.sk-estimator:hover label.sk-toggleable__label-arrow:before {color: black;}#sk-container-id-11 div.sk-toggleable__content {max-height: 0;max-width: 0;overflow: hidden;text-align: left;background-color: #f0f8ff;}#sk-container-id-11 div.sk-toggleable__content pre {margin: 0.2em;color: black;border-radius: 0.25em;background-color: #f0f8ff;}#sk-container-id-11 input.sk-toggleable__control:checked~div.sk-toggleable__content {max-height: 200px;max-width: 100%;overflow: auto;}#sk-container-id-11 input.sk-toggleable__control:checked~label.sk-toggleable__label-arrow:before {content: \"▾\";}#sk-container-id-11 div.sk-estimator input.sk-toggleable__control:checked~label.sk-toggleable__label {background-color: #d4ebff;}#sk-container-id-11 div.sk-label input.sk-toggleable__control:checked~label.sk-toggleable__label {background-color: #d4ebff;}#sk-container-id-11 input.sk-hidden--visually {border: 0;clip: rect(1px 1px 1px 1px);clip: rect(1px, 1px, 1px, 1px);height: 1px;margin: -1px;overflow: hidden;padding: 0;position: absolute;width: 1px;}#sk-container-id-11 div.sk-estimator {font-family: monospace;background-color: #f0f8ff;border: 1px dotted black;border-radius: 0.25em;box-sizing: border-box;margin-bottom: 0.5em;}#sk-container-id-11 div.sk-estimator:hover {background-color: #d4ebff;}#sk-container-id-11 div.sk-parallel-item::after {content: \"\";width: 100%;border-bottom: 1px solid gray;flex-grow: 1;}#sk-container-id-11 div.sk-label:hover label.sk-toggleable__label {background-color: #d4ebff;}#sk-container-id-11 div.sk-serial::before {content: \"\";position: absolute;border-left: 1px solid gray;box-sizing: border-box;top: 0;bottom: 0;left: 50%;z-index: 0;}#sk-container-id-11 div.sk-serial {display: flex;flex-direction: column;align-items: center;background-color: white;padding-right: 0.2em;padding-left: 0.2em;position: relative;}#sk-container-id-11 div.sk-item {position: relative;z-index: 1;}#sk-container-id-11 div.sk-parallel {display: flex;align-items: stretch;justify-content: center;background-color: white;position: relative;}#sk-container-id-11 div.sk-item::before, #sk-container-id-11 div.sk-parallel-item::before {content: \"\";position: absolute;border-left: 1px solid gray;box-sizing: border-box;top: 0;bottom: 0;left: 50%;z-index: -1;}#sk-container-id-11 div.sk-parallel-item {display: flex;flex-direction: column;z-index: 1;position: relative;background-color: white;}#sk-container-id-11 div.sk-parallel-item:first-child::after {align-self: flex-end;width: 50%;}#sk-container-id-11 div.sk-parallel-item:last-child::after {align-self: flex-start;width: 50%;}#sk-container-id-11 div.sk-parallel-item:only-child::after {width: 0;}#sk-container-id-11 div.sk-dashed-wrapped {border: 1px dashed gray;margin: 0 0.4em 0.5em 0.4em;box-sizing: border-box;padding-bottom: 0.4em;background-color: white;}#sk-container-id-11 div.sk-label label {font-family: monospace;font-weight: bold;display: inline-block;line-height: 1.2em;}#sk-container-id-11 div.sk-label-container {text-align: center;}#sk-container-id-11 div.sk-container {/* jupyter's `normalize.less` sets `[hidden] { display: none; }` but bootstrap.min.css set `[hidden] { display: none !important; }` so we also need the `!important` here to be able to override the default hidden behavior on the sphinx rendered scikit-learn.org. See: https://github.com/scikit-learn/scikit-learn/issues/21755 */display: inline-block !important;position: relative;}#sk-container-id-11 div.sk-text-repr-fallback {display: none;}</style><div id=\"sk-container-id-11\" class=\"sk-top-container\"><div class=\"sk-text-repr-fallback\"><pre>SimpleImputer(strategy=&#x27;median&#x27;)</pre><b>In a Jupyter environment, please rerun this cell to show the HTML representation or trust the notebook. <br />On GitHub, the HTML representation is unable to render, please try loading this page with nbviewer.org.</b></div><div class=\"sk-container\" hidden><div class=\"sk-item\"><div class=\"sk-estimator sk-toggleable\"><input class=\"sk-toggleable__control sk-hidden--visually\" id=\"sk-estimator-id-17\" type=\"checkbox\" checked><label for=\"sk-estimator-id-17\" class=\"sk-toggleable__label sk-toggleable__label-arrow\">SimpleImputer</label><div class=\"sk-toggleable__content\"><pre>SimpleImputer(strategy=&#x27;median&#x27;)</pre></div></div></div></div></div>"
            ]
          },
          "metadata": {},
          "execution_count": 150
        }
      ]
    },
    {
      "cell_type": "code",
      "source": [
        "X=si.transform(X)"
      ],
      "metadata": {
        "id": "a8Nc7HLprBU8"
      },
      "id": "a8Nc7HLprBU8",
      "execution_count": 151,
      "outputs": []
    },
    {
      "cell_type": "code",
      "source": [
        "import pandas as pd\n",
        "X = pd.DataFrame(X,columns=column_name)"
      ],
      "metadata": {
        "id": "4ZgGcjSEsxLj"
      },
      "id": "4ZgGcjSEsxLj",
      "execution_count": 152,
      "outputs": []
    },
    {
      "cell_type": "code",
      "source": [
        "X.isnull().sum()"
      ],
      "metadata": {
        "colab": {
          "base_uri": "https://localhost:8080/"
        },
        "id": "z2tSxWJeuWBG",
        "outputId": "d0733eeb-c980-4a03-b64e-41e63739185d"
      },
      "id": "z2tSxWJeuWBG",
      "execution_count": 153,
      "outputs": [
        {
          "output_type": "execute_result",
          "data": {
            "text/plain": [
              "id                0\n",
              "loading           0\n",
              "attribute_2       0\n",
              "attribute_3       0\n",
              "measurement_0     0\n",
              "measurement_1     0\n",
              "measurement_2     0\n",
              "measurement_3     0\n",
              "measurement_4     0\n",
              "measurement_5     0\n",
              "measurement_6     0\n",
              "measurement_7     0\n",
              "measurement_8     0\n",
              "measurement_9     0\n",
              "measurement_10    0\n",
              "measurement_11    0\n",
              "measurement_12    0\n",
              "measurement_13    0\n",
              "measurement_14    0\n",
              "measurement_15    0\n",
              "measurement_16    0\n",
              "measurement_17    0\n",
              "dtype: int64"
            ]
          },
          "metadata": {},
          "execution_count": 153
        }
      ]
    },
    {
      "cell_type": "code",
      "source": [
        " rf = RandomForestClassifier ()"
      ],
      "metadata": {
        "id": "nzymf0jovF9v"
      },
      "id": "nzymf0jovF9v",
      "execution_count": 154,
      "outputs": []
    },
    {
      "cell_type": "code",
      "source": [
        "rf = rf.fit(X,y)"
      ],
      "metadata": {
        "id": "bZ4XXI-ivWcd"
      },
      "id": "bZ4XXI-ivWcd",
      "execution_count": 155,
      "outputs": []
    },
    {
      "cell_type": "code",
      "source": [
        "rf.predict(X)"
      ],
      "metadata": {
        "colab": {
          "base_uri": "https://localhost:8080/"
        },
        "id": "ngADzadCvziV",
        "outputId": "efa37aef-017e-4b1a-cf36-87fa9dc3bc96"
      },
      "id": "ngADzadCvziV",
      "execution_count": 156,
      "outputs": [
        {
          "output_type": "execute_result",
          "data": {
            "text/plain": [
              "array([0, 0, 0, ..., 0, 0, 0])"
            ]
          },
          "metadata": {},
          "execution_count": 156
        }
      ]
    },
    {
      "cell_type": "code",
      "source": [
        "s=rf.predict(X)"
      ],
      "metadata": {
        "id": "WJxhWGpewFqA"
      },
      "id": "WJxhWGpewFqA",
      "execution_count": 157,
      "outputs": []
    },
    {
      "cell_type": "code",
      "source": [
        "(s==y).sum()/X.shape"
      ],
      "metadata": {
        "colab": {
          "base_uri": "https://localhost:8080/"
        },
        "id": "rUpLqIyVwoEu",
        "outputId": "236e86b6-ca87-4456-fb07-44840ed1a45e"
      },
      "id": "rUpLqIyVwoEu",
      "execution_count": 162,
      "outputs": [
        {
          "output_type": "execute_result",
          "data": {
            "text/plain": [
              "array([1.00000000e+00, 1.20772727e+03])"
            ]
          },
          "metadata": {},
          "execution_count": 162
        }
      ]
    },
    {
      "cell_type": "code",
      "source": [
        "X_train, X_test, y_train, y_test = train_test_split(X, y, train_size=0.25)"
      ],
      "metadata": {
        "id": "6XfRZ8Jbxzv7"
      },
      "id": "6XfRZ8Jbxzv7",
      "execution_count": 164,
      "outputs": []
    },
    {
      "cell_type": "code",
      "source": [
        " rf = RandomForestClassifier ()"
      ],
      "metadata": {
        "id": "fyvjBVIixzqk"
      },
      "id": "fyvjBVIixzqk",
      "execution_count": 165,
      "outputs": []
    },
    {
      "cell_type": "code",
      "source": [
        "rf = rf.fit(X,y)"
      ],
      "metadata": {
        "id": "6GPV4eDExzoi"
      },
      "id": "6GPV4eDExzoi",
      "execution_count": 166,
      "outputs": []
    },
    {
      "cell_type": "code",
      "source": [
        "rf.predict(X)"
      ],
      "metadata": {
        "colab": {
          "base_uri": "https://localhost:8080/"
        },
        "id": "CZFlJFOvxzmU",
        "outputId": "e9bf4e4c-804b-4f6a-999b-23c76769dffc"
      },
      "id": "CZFlJFOvxzmU",
      "execution_count": 167,
      "outputs": [
        {
          "output_type": "execute_result",
          "data": {
            "text/plain": [
              "array([0, 0, 0, ..., 0, 0, 0])"
            ]
          },
          "metadata": {},
          "execution_count": 167
        }
      ]
    },
    {
      "cell_type": "code",
      "source": [],
      "metadata": {
        "id": "KMMHxY4fxzjx"
      },
      "id": "KMMHxY4fxzjx",
      "execution_count": null,
      "outputs": []
    },
    {
      "cell_type": "code",
      "source": [
        "pipe = make_pipeline(SimpleImputer(strategy = 'mean'), RandomForestClassifier())"
      ],
      "metadata": {
        "id": "5imuVHfKHHLi"
      },
      "id": "5imuVHfKHHLi",
      "execution_count": null,
      "outputs": []
    },
    {
      "cell_type": "code",
      "execution_count": null,
      "id": "aa8e5f23",
      "metadata": {
        "_kg_hide-input": true,
        "_kg_hide-output": true,
        "execution": {
          "iopub.execute_input": "2023-04-21T13:40:52.202085Z",
          "iopub.status.busy": "2023-04-21T13:40:52.201222Z",
          "iopub.status.idle": "2023-04-21T13:40:53.588600Z",
          "shell.execute_reply": "2023-04-21T13:40:53.587445Z"
        },
        "papermill": {
          "duration": 1.395479,
          "end_time": "2023-04-21T13:40:53.591425",
          "exception": false,
          "start_time": "2023-04-21T13:40:52.195946",
          "status": "completed"
        },
        "tags": [],
        "id": "aa8e5f23"
      },
      "outputs": [],
      "source": [
        "# 3.0 Divide data into training and validation subsets\n",
        "X_train, X_valid, y_train, y_valid = train_test_split(X, y, train_size=0.8, test_size=0.2,\n",
        "                                                      random_state=0)"
      ]
    },
    {
      "cell_type": "code",
      "source": [
        "pipe.fit(X_train,y_train)"
      ],
      "metadata": {
        "id": "NRknvtNrH9Z1"
      },
      "id": "NRknvtNrH9Z1",
      "execution_count": null,
      "outputs": []
    },
    {
      "cell_type": "code",
      "source": [
        "pred = pipe.predict(X_valid)"
      ],
      "metadata": {
        "id": "3KDj_4AXIIBe"
      },
      "id": "3KDj_4AXIIBe",
      "execution_count": null,
      "outputs": []
    },
    {
      "cell_type": "code",
      "source": [
        "accu = accuracy_score(y_valid,pred)\n",
        "accu   # 79%"
      ],
      "metadata": {
        "id": "ePbLmLucIViV"
      },
      "id": "ePbLmLucIViV",
      "execution_count": null,
      "outputs": []
    },
    {
      "cell_type": "markdown",
      "source": [
        "# Your Turn\n",
        "\n",
        "a. Add Standard Scaler and PCA to it  \n",
        "b. Add cross validation to it"
      ],
      "metadata": {
        "id": "tUAO9M4I38pm"
      },
      "id": "tUAO9M4I38pm"
    },
    {
      "cell_type": "code",
      "source": [
        "### ----------------------- Done -----------------"
      ],
      "metadata": {
        "id": "BsipSe-UKPWb"
      },
      "id": "BsipSe-UKPWb",
      "execution_count": null,
      "outputs": []
    }
  ],
  "metadata": {
    "kernelspec": {
      "display_name": "Python 3",
      "language": "python",
      "name": "python3"
    },
    "language_info": {
      "codemirror_mode": {
        "name": "ipython",
        "version": 3
      },
      "file_extension": ".py",
      "mimetype": "text/x-python",
      "name": "python",
      "nbconvert_exporter": "python",
      "pygments_lexer": "ipython3",
      "version": "3.7.12"
    },
    "papermill": {
      "default_parameters": {},
      "duration": 15.891205,
      "end_time": "2023-04-21T13:40:56.746001",
      "environment_variables": {},
      "exception": null,
      "input_path": "__notebook__.ipynb",
      "output_path": "__notebook__.ipynb",
      "parameters": {},
      "start_time": "2023-04-21T13:40:40.854796",
      "version": "2.4.0"
    },
    "colab": {
      "provenance": [],
      "include_colab_link": true
    }
  },
  "nbformat": 4,
  "nbformat_minor": 5
}